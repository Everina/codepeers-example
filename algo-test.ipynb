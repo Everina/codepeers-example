{
 "cells": [
  {
   "cell_type": "markdown",
   "id": "5243462f-0c25-49fe-b92d-5e2c69ea64f2",
   "metadata": {},
   "source": [
    "# Test Assignment with Codepeers"
   ]
  },
  {
   "cell_type": "code",
   "execution_count": 1,
   "id": "7d3a9eb8-bb03-44e4-ae4f-7c64759b595f",
   "metadata": {
    "tags": []
   },
   "outputs": [],
   "source": [
    "from typing import List"
   ]
  },
  {
   "cell_type": "markdown",
   "id": "b7e4e2fb-2759-422a-98ed-2bf6f30fe3ca",
   "metadata": {},
   "source": [
    "**Question 1: Find the two numbers in the array that add up to the target value**\n",
    "\n",
    "Given an array of integers `nums`\u00a0and an integer `target`, return indices of the two numbers such that they add up to target. You may assume that each input would have exactly one solution, and you may not use the same element twice. You can return the answer in any order.\n",
    "\n",
    "> Input: nums = [2,7,11,15], target = 9\n",
    "Output: [0,1]\n",
    "> \n",
    "\n",
    "> Input: nums = [3,2,4], target = 6\n",
    "Output: [1,2]\n",
    ">"
   ]
  },
  {
   "cell_type": "code",
   "execution_count": 2,
   "id": "32d590a2-7a28-4292-ab4c-e94ffe559945",
   "metadata": {
    "codepeers": {
     "topic_id": "102bc67e-7609-4827-a8c9-1d7ed01a16e6"
    },
    "tags": []
   },
   "outputs": [],
   "source": [
    "def two_sum(nums: List[int], target: int) -> List[int]:\n",
    "    # your code below\n",
    "    pass"
   ]
  },
  {
   "cell_type": "markdown",
   "id": "69c42c9a-813f-4579-b573-ba04c4f7171a",
   "metadata": {},
   "source": [
    "**Question 2: Find the length of the longest substring without repeating characters**\n",
    "\n",
    "Given a string `s`, find the length of the longest substring without repeating characters.\n",
    "\n",
    "> Input: s = \"abcabcbb\"\n",
    "Output: 3\n",
    "> \n",
    "\n",
    "> Input: s = \"pwwkew\"\n",
    "Output: 3\n",
    ">"
   ]
  },
  {
   "cell_type": "code",
   "execution_count": 3,
   "id": "7b73cbde-2003-437d-8979-004e2c76c770",
   "metadata": {
    "codepeers": {
     "topic_id": "ff1490fd-96e0-4694-8c03-258c8e51553c"
    },
    "tags": []
   },
   "outputs": [],
   "source": [
    "def length_of_longest_substring(s: str) -> int:\n",
    "    # your code below\n",
    "    pass"
   ]
  },
  {
   "cell_type": "code",
   "execution_count": null,
   "id": "46f993da-5593-4218-9621-4b94eec63509",
   "metadata": {},
   "outputs": [],
   "source": []
  }
 ],
 "metadata": {
  "codepeers": {
   "document_id": "codepeers-test-algo-1",
   "user_id": "Zip",
   "user_name": "Zip"
  },
  "kernelspec": {
   "display_name": "Python 3 (ipykernel)",
   "language": "python",
   "name": "python3"
  },
  "language_info": {
   "codemirror_mode": {
    "name": "ipython",
    "version": 3
   },
   "file_extension": ".py",
   "mimetype": "text/x-python",
   "name": "python",
   "nbconvert_exporter": "python",
   "pygments_lexer": "ipython3",
   "version": "3.10.10"
  }
 },
 "nbformat": 4,
 "nbformat_minor": 5
}